{
 "cells": [
  {
   "cell_type": "markdown",
   "metadata": {},
   "source": [
    "# Assignment 3"
   ]
  },
  {
   "cell_type": "markdown",
   "metadata": {},
   "source": [
    "# Make a calculator using python with addition, subtraction,multiplication, division, and power."
   ]
  },
  {
   "cell_type": "code",
   "execution_count": null,
   "metadata": {},
   "outputs": [],
   "source": [
    "num = float(input(\"Enter Number: \"))\n",
    "num1 = float(input(\"Enter Number: \"))\n",
    "\n",
    "print(\"1 for Addition\")\n",
    "print(\"2 for Subtraction\")\n",
    "print(\"3 for Multiplication \")\n",
    "print(\"4 for Division\")\n",
    "print(\"5 for power\")\n",
    "\n",
    "num2 = int(input(\"Enter: \"))\n",
    "\n",
    "if num2 == 1:\n",
    "    print(\"Addition is = \",num+num1)\n",
    "elif num2 == 2:\n",
    "    print(\"Subtraction is = \", num - num1)\n",
    "elif num2 == 3:\n",
    "    print(\"Multiplication is = \", num * num1)\n",
    "elif num2 == 4:\n",
    "    print(\"Division is = \", num / num1)  \n",
    "elif num2 == 5:\n",
    "    print(\"Power is = \", num ** num1)  \n",
    "else:\n",
    "    print(\"Invalid Key\")"
   ]
  },
  {
   "cell_type": "markdown",
   "metadata": {},
   "source": [
    "# write a program to check if there is any numeric value in list using for loop."
   ]
  },
  {
   "cell_type": "code",
   "execution_count": null,
   "metadata": {},
   "outputs": [],
   "source": [
    "numeric = []\n",
    "items = [\"Zero\", \"One\", 12, 12.5, \"Two\"]\n",
    "type(items[2])\n",
    "for _ in items:\n",
    "    if type(_) == float or type(_) == int:\n",
    "        numeric.append(_)\n",
    "        print(numeric)"
   ]
  },
  {
   "cell_type": "markdown",
   "metadata": {},
   "source": [
    "# write a program script to add key to a dictionary"
   ]
  },
  {
   "cell_type": "code",
   "execution_count": null,
   "metadata": {},
   "outputs": [],
   "source": [
    "python_script = {\n",
    "    1: \"Print\",\n",
    "    2: \"Variable\",\n",
    "    3: \"Conditions\",\n",
    "    4: \"Loops\",\n",
    "    5: \"List\",\n",
    "    6: \"Dictionary\",\n",
    "    7: \"Functions\",\n",
    "    8: \"Classes\",\n",
    "    }\n",
    "python_script[9] = \"Data_Files\" # key added\n",
    "python_script[9]"
   ]
  },
  {
   "cell_type": "markdown",
   "metadata": {},
   "source": [
    "# write a python program to sum all the numeric values from list"
   ]
  },
  {
   "cell_type": "code",
   "execution_count": null,
   "metadata": {},
   "outputs": [],
   "source": [
    "numeric_values = {\n",
    "    1: 10,\n",
    "    2: 20,\n",
    "    3: \"Thirty\",\n",
    "    4: \"Forty\",\n",
    "    5: 50,\n",
    "}\n",
    "sum = 0\n",
    "for i in numeric_values.values():\n",
    "    if type(i) == int or type(i) == float:\n",
    "        sum += i\n",
    "print(f\"Total Sum is = {sum}\")       "
   ]
  },
  {
   "cell_type": "markdown",
   "metadata": {},
   "source": [
    "# write a program to identify duplicate values from list"
   ]
  },
  {
   "cell_type": "code",
   "execution_count": null,
   "metadata": {},
   "outputs": [],
   "source": [
    "items = ['A','B','C','A','B']\n",
    "for i in items:\n",
    "    if items.count(i) > 1:\n",
    "        print(\"Duplicated \",i)"
   ]
  },
  {
   "cell_type": "markdown",
   "metadata": {},
   "source": [
    "# write a python script to check if a given key already exists in a dictionary"
   ]
  },
  {
   "cell_type": "code",
   "execution_count": null,
   "metadata": {},
   "outputs": [],
   "source": [
    "cities = {\n",
    "    1: \"Karachi\",\n",
    "    2: \"Lahore\",\n",
    "    3: \"Hyderabad\",\n",
    "}\n",
    "\n",
    "given_key = 3\n",
    "for key in cities.keys():\n",
    "    if key == given_key:\n",
    "        print(\"Already Exists\")\n",
    "    else:\n",
    "        pass"
   ]
  },
  {
   "cell_type": "markdown",
   "metadata": {},
   "source": [
    "# That's All "
   ]
  }
 ],
 "metadata": {
  "kernelspec": {
   "display_name": "Python 3",
   "language": "python",
   "name": "python3"
  },
  "language_info": {
   "codemirror_mode": {
    "name": "ipython",
    "version": 3
   },
   "file_extension": ".py",
   "mimetype": "text/x-python",
   "name": "python",
   "nbconvert_exporter": "python",
   "pygments_lexer": "ipython3",
   "version": "3.7.1"
  }
 },
 "nbformat": 4,
 "nbformat_minor": 2
}

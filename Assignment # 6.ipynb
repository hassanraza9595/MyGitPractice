{
 "cells": [
  {
   "cell_type": "markdown",
   "metadata": {},
   "source": [
    "# Assignment # 6"
   ]
  },
  {
   "cell_type": "code",
   "execution_count": 2,
   "metadata": {},
   "outputs": [],
   "source": [
    "# Task 1\n",
    "# Define object oriented programming language"
   ]
  },
  {
   "cell_type": "code",
   "execution_count": 5,
   "metadata": {},
   "outputs": [
    {
     "name": "stdout",
     "output_type": "stream",
     "text": [
      "Object-oriented programming (OOP) refers to a type of computer programming (software design) in which programmers define the data type of a data structure, and also the types ofoperations (functions) that can be applied to the data structure.\n"
     ]
    }
   ],
   "source": [
    "print(\"Object-oriented programming (OOP) refers to a type\", \n",
    "      \"of computer programming (software design) in which programmers\",\n",
    "      \"define the data type of a data structure, and also the types of\"\n",
    "      \"operations (functions) that can be applied to the data structure.\")"
   ]
  },
  {
   "cell_type": "code",
   "execution_count": 6,
   "metadata": {},
   "outputs": [],
   "source": [
    "# Task # 2\n",
    "# List down the benefit of oop"
   ]
  },
  {
   "cell_type": "code",
   "execution_count": 15,
   "metadata": {},
   "outputs": [
    {
     "name": "stdout",
     "output_type": "stream",
     "text": [
      "Let's see what are the advantages of OOP offers to its users. Re-usability. It means reusing some facilities rather than building it again and again\n",
      "\n",
      " Data Redundancy\n",
      " Code Maintenance\n",
      " Security\n",
      " Design Benefits\n",
      " Better productivity\n",
      " Easy troubleshooting\n",
      " Polymorphism Flexibility\n",
      "\n"
     ]
    }
   ],
   "source": [
    "print(\"Let's see what are the advantages of OOP offers to its users.\",\n",
    "\"Re-usability. It means reusing some facilities rather than building\",\n",
    "\"it again and again\\n\\n\",\n",
    "\"Data Redundancy\\n\",\n",
    "\"Code Maintenance\\n\",\n",
    "\"Security\\n\",\n",
    "\"Design Benefits\\n\",\n",
    "\"Better productivity\\n\",\n",
    "\"Easy troubleshooting\\n\",\n",
    "\"Polymorphism Flexibility\\n\")"
   ]
  },
  {
   "cell_type": "code",
   "execution_count": 16,
   "metadata": {},
   "outputs": [],
   "source": [
    "#Task 3\n",
    "# Difference between function and method"
   ]
  },
  {
   "cell_type": "code",
   "execution_count": 18,
   "metadata": {},
   "outputs": [
    {
     "name": "stdout",
     "output_type": "stream",
     "text": [
      "A function is a piece of code that is called by name. It can be passed data to operate on (i.e. the parameters) and can optionally return data (the return value).  All data that is passed to a function is explicitly passed. A method is a piece of code that is called by a name that is associated with an object.\n"
     ]
    }
   ],
   "source": [
    "print(\"A function is a piece of code that is called by name.\",\n",
    "\"It can be passed data to operate on (i.e. the parameters) and can optionally return data (the return value).\",\n",
    "\" All data that is passed to a function is explicitly passed.\",\n",
    "\"A method is a piece of code that is called by\",\n",
    "\"a name that is associated with an object.\")"
   ]
  },
  {
   "cell_type": "code",
   "execution_count": 19,
   "metadata": {},
   "outputs": [],
   "source": [
    "#Task 4\n",
    "# Define the following terms\n",
    "# Class\n",
    "# Object \n",
    "# Attribute\n",
    "# Behaviour"
   ]
  },
  {
   "cell_type": "code",
   "execution_count": 20,
   "metadata": {},
   "outputs": [
    {
     "name": "stdout",
     "output_type": "stream",
     "text": [
      "In object-oriented programming, a class is a blueprint for creating objects (a particular data structure) providing initial values for state (member variables or attributes), and implementations of behavior (member functions or methods). The user-defined objects are created using the class keyword.\n"
     ]
    }
   ],
   "source": [
    "# Class\n",
    "print(\"In object-oriented programming, a class is a blueprint for creating objects (a particular data structure)\",\n",
    "\"providing initial values for state (member variables or attributes), and\",\n",
    "\"implementations of behavior (member functions or methods).\", \n",
    "\"The user-defined objects are created using the class keyword.\")"
   ]
  },
  {
   "cell_type": "code",
   "execution_count": 21,
   "metadata": {},
   "outputs": [
    {
     "name": "stdout",
     "output_type": "stream",
     "text": [
      "Object-oriented programming, or OOP, is an approach to problem solving where all computations are carried out using objects. An object is a component of a program that knows how to perform certain actions and how to interact with other elements of the program. Objects are the basic units of object-oriented programming.\n"
     ]
    }
   ],
   "source": [
    "# Object\n",
    "print(\"Object-oriented programming, or OOP, is an approach to problem solving where all computations are carried out using objects.\",\n",
    "\"An object is a component of a program that knows how to perform certain actions and how to interact with other elements of the program.\",\n",
    "\"Objects are the basic units of object-oriented programming.\")"
   ]
  },
  {
   "cell_type": "code",
   "execution_count": 23,
   "metadata": {},
   "outputs": [
    {
     "name": "stdout",
     "output_type": "stream",
     "text": [
      "In Object-oriented programming(OOP), classes and objects have attributes. Attributes are data stored inside a class or instance and represent the state or quality of the class or instance. In short, attributes store information about the instance.\n"
     ]
    }
   ],
   "source": [
    "# Attribue\n",
    "print(\"In Object-oriented programming(OOP), classes and objects have attributes.\",\n",
    "\"Attributes are data stored inside a class or instance and represent the state or quality of the class or instance.\",\n",
    "\"In short, attributes store information about the instance.\")"
   ]
  },
  {
   "cell_type": "code",
   "execution_count": 26,
   "metadata": {},
   "outputs": [
    {
     "name": "stdout",
     "output_type": "stream",
     "text": [
      "A class's behavior determines how an instance of that class operates; for example, how it will react if asked to do something by another class or object or if its internal state changes. Behavior is the only way objects can do anything to themselves or have anything done to them.\n"
     ]
    }
   ],
   "source": [
    "#Behaviour\n",
    "print(\"A class's behavior determines how an instance of that class operates;\",\n",
    "\"for example, how it will react if asked to do something by another class or\",\n",
    "\"object or if its internal state changes.\",\n",
    "\"Behavior is the only way objects can do anything to themselves or have anything done to them.\")"
   ]
  },
  {
   "cell_type": "code",
   "execution_count": 27,
   "metadata": {},
   "outputs": [
    {
     "data": {
      "text/plain": [
       "'Write a code in python in which create a class named it Car which\\nhave 5 attributes such like (model, color and name etc.) and 3\\nmethods. And create 5 object instance from that class'"
      ]
     },
     "execution_count": 27,
     "metadata": {},
     "output_type": "execute_result"
    }
   ],
   "source": [
    "# Task 5\n",
    "\"\"\"Write a code in python in which create a class named it Car which\n",
    "have 5 attributes such like (model, color and name etc.) and 3\n",
    "methods. And create 5 object instance from that class\"\"\""
   ]
  },
  {
   "cell_type": "code",
   "execution_count": 43,
   "metadata": {},
   "outputs": [
    {
     "name": "stdout",
     "output_type": "stream",
     "text": [
      "2022\n",
      "Black\n",
      "Civic\n",
      "Honda\n",
      "4\n"
     ]
    }
   ],
   "source": [
    "class Car():\n",
    "    def model(self,model):\n",
    "        self.model = model\n",
    "        \n",
    "    def color(self,color):\n",
    "        self.color = color\n",
    "    def name(self,name,company,wheel):\n",
    "        self.name = name\n",
    "        self.company = company\n",
    "        self.wheel = wheel\n",
    " \n",
    "obj =  Car()\n",
    "obj1 = Car()\n",
    "obj2 = Car()\n",
    "obj3 = Car()\n",
    "obj4 = Car()\n",
    "\n",
    "obj.model = '2022'\n",
    "obj1.color = 'Black'\n",
    "obj2.name = 'Civic'\n",
    "obj3.company = 'Honda'\n",
    "obj4.wheel = 4\n",
    "print(obj.model)\n",
    "print(obj1.color)\n",
    "print(obj2.name)\n",
    "print(obj3.company)\n",
    "print(obj4.wheel)"
   ]
  },
  {
   "cell_type": "code",
   "execution_count": 44,
   "metadata": {},
   "outputs": [],
   "source": [
    "# That's End. \n",
    "# Thanks Saylani Mass IT Training"
   ]
  }
 ],
 "metadata": {
  "kernelspec": {
   "display_name": "Python 3",
   "language": "python",
   "name": "python3"
  },
  "language_info": {
   "codemirror_mode": {
    "name": "ipython",
    "version": 3
   },
   "file_extension": ".py",
   "mimetype": "text/x-python",
   "name": "python",
   "nbconvert_exporter": "python",
   "pygments_lexer": "ipython3",
   "version": "3.7.1"
  }
 },
 "nbformat": 4,
 "nbformat_minor": 2
}

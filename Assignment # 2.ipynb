{
 "cells": [
  {
   "cell_type": "markdown",
   "metadata": {},
   "source": [
    "# Assignment # 2"
   ]
  },
  {
   "cell_type": "markdown",
   "metadata": {},
   "source": [
    "# TASK 1"
   ]
  },
  {
   "cell_type": "code",
   "execution_count": 2,
   "metadata": {},
   "outputs": [
    {
     "name": "stdout",
     "output_type": "stream",
     "text": [
      "Math Mark: 87\n",
      "Python Mark: 83\n",
      "C_Plus Mark: 56\n",
      "Java Mark: 43\n",
      "PHP Mark: 65\n",
      "Grade B\n",
      "Percentage:  66.8\n"
     ]
    }
   ],
   "source": [
    "math = int(input(\"Math Mark: \"))\n",
    "python = int(input(\"Python Mark: \"))\n",
    "c_plus = int(input(\"C_Plus Mark: \"))\n",
    "java = int(input(\"Java Mark: \"))\n",
    "php = int(input(\"PHP Mark: \"))\n",
    "\n",
    "obtain_mark = math+python+c_plus+java+php\n",
    "total_marks = 500\n",
    "percentage = (obtain_mark*100)/total_marks\n",
    "\n",
    "if percentage >= 80 and percentage <= 100:\n",
    "    print(\"Grade A\")\n",
    "elif percentage >= 60 and percentage <= 79:\n",
    "    print(\"Grade B\")\n",
    "    print(\"Percentage: \",percentage)\n",
    "elif percentage >= 50 and percentage <= 59:\n",
    "    print(\"Grade C\")\n",
    "    print(\"Percentage: \",percentage)\n",
    "elif percentage >= 40 and percentage <= 49 :\n",
    "    print(\"Grade D\")\n",
    "    print(\"Percentage: \",percentage)\n",
    "elif percentage > 100:\n",
    "    print(\"Invalid\")\n",
    "else:\n",
    "    print(\"Fail\")\n",
    "    print(\"Percentage: \",percentage)\n",
    "    \n",
    "    "
   ]
  },
  {
   "cell_type": "markdown",
   "metadata": {},
   "source": [
    "# TASK 2"
   ]
  },
  {
   "cell_type": "code",
   "execution_count": 7,
   "metadata": {},
   "outputs": [
    {
     "name": "stdout",
     "output_type": "stream",
     "text": [
      "Enter Number: 32\n",
      "Number is Odd:  32\n"
     ]
    }
   ],
   "source": [
    "number = int(input(\"Enter Number: \"))\n",
    "if number/2 == 0:\n",
    "    print(\"Number is Even: \", number)\n",
    "else:\n",
    "    print(\"Number is Odd: \", number)"
   ]
  },
  {
   "cell_type": "markdown",
   "metadata": {},
   "source": [
    "# TASK 3"
   ]
  },
  {
   "cell_type": "code",
   "execution_count": 8,
   "metadata": {},
   "outputs": [
    {
     "name": "stdout",
     "output_type": "stream",
     "text": [
      "8\n"
     ]
    }
   ],
   "source": [
    "items = [1,3,5,7,9,11,13,15]\n",
    "print(len(items))"
   ]
  },
  {
   "cell_type": "markdown",
   "metadata": {},
   "source": [
    "# TASK 4"
   ]
  },
  {
   "cell_type": "code",
   "execution_count": 9,
   "metadata": {},
   "outputs": [
    {
     "name": "stdout",
     "output_type": "stream",
     "text": [
      "64\n"
     ]
    }
   ],
   "source": [
    "items = [1,3,5,7,9,11,13,15]\n",
    "print(sum(items))"
   ]
  },
  {
   "cell_type": "markdown",
   "metadata": {},
   "source": [
    "# TASK 5"
   ]
  },
  {
   "cell_type": "code",
   "execution_count": 11,
   "metadata": {},
   "outputs": [
    {
     "name": "stdout",
     "output_type": "stream",
     "text": [
      "15\n"
     ]
    }
   ],
   "source": [
    "items = [1,3,5,7,9,11,13,15]\n",
    "print(max(items))"
   ]
  },
  {
   "cell_type": "markdown",
   "metadata": {},
   "source": [
    "# TASK 6"
   ]
  },
  {
   "cell_type": "code",
   "execution_count": 1,
   "metadata": {},
   "outputs": [
    {
     "name": "stdout",
     "output_type": "stream",
     "text": [
      "1\n",
      "2\n",
      "3\n",
      "4\n"
     ]
    }
   ],
   "source": [
    "A = [1,2,3,4,5,6,7,8,9,10]\n",
    "for no in A:\n",
    "    if no < 5:\n",
    "        print(no)"
   ]
  },
  {
   "cell_type": "code",
   "execution_count": null,
   "metadata": {},
   "outputs": [],
   "source": []
  }
 ],
 "metadata": {
  "kernelspec": {
   "display_name": "Python 3",
   "language": "python",
   "name": "python3"
  },
  "language_info": {
   "codemirror_mode": {
    "name": "ipython",
    "version": 3
   },
   "file_extension": ".py",
   "mimetype": "text/x-python",
   "name": "python",
   "nbconvert_exporter": "python",
   "pygments_lexer": "ipython3",
   "version": "3.7.1"
  }
 },
 "nbformat": 4,
 "nbformat_minor": 2
}

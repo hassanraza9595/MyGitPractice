{
 "cells": [
  {
   "cell_type": "markdown",
   "metadata": {},
   "source": [
    "# Task 1"
   ]
  },
  {
   "cell_type": "code",
   "execution_count": 6,
   "metadata": {},
   "outputs": [
    {
     "name": "stdout",
     "output_type": "stream",
     "text": [
      "person's first_name is Hassan Raza\n",
      "person's last_name is Gadhi\n",
      "person's Age is 20\n",
      "person's City is Karachi\n"
     ]
    }
   ],
   "source": [
    "person = {\n",
    "    \"first_name\": \"Hassan Raza\",\n",
    "    \"last_name\": \"Gadhi\",\n",
    "    \"Age\": \"20\",\n",
    "    \"City\": \"Karachi\",\n",
    "    }\n",
    "for ek,ev in person.items():\n",
    "    print(\"person's \"+ek+\" is \"+ev)\n",
    "    \n",
    "person[\"qualification\"] = \"Intermediate\"\n",
    "person[\"qualification\"] = \"Undergraduate\"\n",
    "del person[\"qualification\"]"
   ]
  },
  {
   "cell_type": "markdown",
   "metadata": {},
   "source": [
    "# Task 2"
   ]
  },
  {
   "cell_type": "code",
   "execution_count": 2,
   "metadata": {},
   "outputs": [
    {
     "name": "stdout",
     "output_type": "stream",
     "text": [
      "Karachi\n",
      "{'Country': 'Pakistan', 'Population': '197 million', 'fact': ' 6th largest city in the world'}\n",
      "Islamabad\n",
      "{'Country': 'Pakistan', 'Population': '1.015 million', 'fact': ' 4th largest mosque in the world'}\n",
      "Lahore\n",
      "{'Country': 'Pakistan', 'Population': '12.811 million', 'fact': '32nd most populous urban city in the world'}\n"
     ]
    }
   ],
   "source": [
    "cities = {\n",
    "    \"Karachi\": {\n",
    "        \"Country\": \"Pakistan\",\n",
    "        \"Population\": \"197 million\",\n",
    "        \"fact\": \" 6th largest city in the world\",\n",
    "    },\n",
    "    \"Islamabad\": {\n",
    "        \n",
    "        \"Country\": \"Pakistan\",\n",
    "        \"Population\": \"1.015 million\",\n",
    "        \"fact\": \" 4th largest mosque in the world\",\n",
    "        \n",
    "    },\n",
    "    \n",
    "    \"Lahore\": {\n",
    "        \n",
    "        \"Country\": \"Pakistan\",\n",
    "        \"Population\": \"12.811 million\",\n",
    "        \"fact\": \"32nd most populous urban city in the world\",\n",
    "        \n",
    "    }\n",
    "}\n",
    "for ek,ev in cities.items():\n",
    "    print(ek)\n",
    "    print(ev)"
   ]
  },
  {
   "cell_type": "markdown",
   "metadata": {},
   "source": [
    "# Task 3"
   ]
  },
  {
   "cell_type": "code",
   "execution_count": 3,
   "metadata": {},
   "outputs": [
    {
     "name": "stdout",
     "output_type": "stream",
     "text": [
      "Welcome to movie theater\n",
      "Enter age: 4\n",
      "Ticket price is $10\n"
     ]
    }
   ],
   "source": [
    "print(\"Welcome to movie theater\")\n",
    "user_age = int(input(\"Enter age: \"))\n",
    "if user_age <3:\n",
    "    print(\"Ticket is free\")\n",
    "elif user_age <12:\n",
    "    print(\"Ticket price is $10\")\n",
    "elif user_age >=12:\n",
    "    print(\"Ticket price is $15\")"
   ]
  },
  {
   "cell_type": "markdown",
   "metadata": {},
   "source": [
    "# Task 4"
   ]
  },
  {
   "cell_type": "code",
   "execution_count": 4,
   "metadata": {},
   "outputs": [
    {
     "name": "stdout",
     "output_type": "stream",
     "text": [
      "Enter Your Favourite book 6\n",
      "One of my favourite book is 6\n"
     ]
    }
   ],
   "source": [
    "def fav_book(title):\n",
    "    print(\"One of my favourite book is \"+title)\n",
    "\n",
    "book = input(\"Enter Your Favourite book \")\n",
    "fav_book(book)"
   ]
  },
  {
   "cell_type": "markdown",
   "metadata": {},
   "source": [
    "# Task 5"
   ]
  },
  {
   "cell_type": "code",
   "execution_count": 5,
   "metadata": {},
   "outputs": [
    {
     "name": "stdout",
     "output_type": "stream",
     "text": [
      "You have 3 chances to guess number\n",
      "Enter Guessing Number: 7\n",
      "Number is less 25\n",
      "Enter Guessing Number: 8\n",
      "Number is less 25\n",
      "Enter Guessing Number: 10\n",
      "Number is less 25\n"
     ]
    }
   ],
   "source": [
    "print(\"You have 3 chances to guess number\")\n",
    "no = 25\n",
    "for i in range(3):\n",
    "    user_input = int(input(\"Enter Guessing Number: \"))\n",
    "    for ii in range(30):\n",
    "        ii == 25\n",
    "        if user_input == ii:\n",
    "            print(\"Correct Guess\")\n",
    "            break\n",
    "        elif user_input > 25:\n",
    "            print(\"Number is Greater 25\")\n",
    "            break\n",
    "        elif user_input < 25:\n",
    "            print(\"Number is less 25\")\n",
    "            break\n",
    "        else:\n",
    "            pass\n",
    "    if no == user_input:\n",
    "        break    "
   ]
  }
 ],
 "metadata": {
  "kernelspec": {
   "display_name": "Python 3",
   "language": "python",
   "name": "python3"
  },
  "language_info": {
   "codemirror_mode": {
    "name": "ipython",
    "version": 3
   },
   "file_extension": ".py",
   "mimetype": "text/x-python",
   "name": "python",
   "nbconvert_exporter": "python",
   "pygments_lexer": "ipython3",
   "version": "3.7.1"
  }
 },
 "nbformat": 4,
 "nbformat_minor": 2
}

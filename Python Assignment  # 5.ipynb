{
 "cells": [
  {
   "cell_type": "code",
   "execution_count": 1,
   "metadata": {},
   "outputs": [],
   "source": [
    "# Task 1"
   ]
  },
  {
   "cell_type": "code",
   "execution_count": 2,
   "metadata": {},
   "outputs": [
    {
     "data": {
      "text/plain": [
       "'\\nWrite a pyhton function to calculate the factorial of a number \\na non-negative interger. The function accepts the number as an \\nargument\\n'"
      ]
     },
     "execution_count": 2,
     "metadata": {},
     "output_type": "execute_result"
    }
   ],
   "source": [
    "\"\"\"\n",
    "Write a pyhton function to calculate the factorial of a number \n",
    "a non-negative interger. The function accepts the number as an \n",
    "argument\n",
    "\"\"\""
   ]
  },
  {
   "cell_type": "code",
   "execution_count": 4,
   "metadata": {},
   "outputs": [
    {
     "name": "stdout",
     "output_type": "stream",
     "text": [
      "Enter Number: 4\n",
      "Factorial is  24\n"
     ]
    }
   ],
   "source": [
    "get_number = int(input(\"Enter Number: \"))\n",
    "def fact(number):\n",
    "    initial = 1\n",
    "    for i in range(1, number+1):\n",
    "            initial *= i\n",
    "    print(\"Factorial is \", initial)\n",
    "fact(get_number) "
   ]
  },
  {
   "cell_type": "code",
   "execution_count": null,
   "metadata": {},
   "outputs": [],
   "source": [
    "# Task 2"
   ]
  },
  {
   "cell_type": "code",
   "execution_count": 4,
   "metadata": {},
   "outputs": [
    {
     "data": {
      "text/plain": [
       "'\\nWrite a python function that accepts string and calculate the number\\n\\n'"
      ]
     },
     "execution_count": 4,
     "metadata": {},
     "output_type": "execute_result"
    }
   ],
   "source": [
    "\"\"\"\n",
    "Write a python function that accepts string and calculate the number\n",
    "of upper case letters and lower case letters.\n",
    "\"\"\""
   ]
  },
  {
   "cell_type": "code",
   "execution_count": 5,
   "metadata": {},
   "outputs": [
    {
     "name": "stdout",
     "output_type": "stream",
     "text": [
      "Enter String Word: frASs\n",
      "upper case letters: 2 \n",
      "lower case letters: 3 \n"
     ]
    }
   ],
   "source": [
    "def CheckCase(string):\n",
    "    up = 0\n",
    "    low = 0\n",
    "    for let in string:\n",
    "        if let == let.upper():\n",
    "            up += 1\n",
    "        elif let == let.lower():\n",
    "            low += 1\n",
    "            \n",
    "    print(f\"upper case letters: {up} \")        \n",
    "    print(f\"lower case letters: {low} \")\n",
    "\n",
    "word = input(\"Enter String Word: \")    \n",
    "CheckCase(word)"
   ]
  },
  {
   "cell_type": "code",
   "execution_count": 5,
   "metadata": {},
   "outputs": [],
   "source": [
    "# Task 3"
   ]
  },
  {
   "cell_type": "code",
   "execution_count": 6,
   "metadata": {},
   "outputs": [
    {
     "data": {
      "text/plain": [
       "'\\nWrite a python function to print the even numbers from a given list.\\n'"
      ]
     },
     "execution_count": 6,
     "metadata": {},
     "output_type": "execute_result"
    }
   ],
   "source": [
    "\"\"\"\n",
    "Write a python function to print the even numbers from a given list.\n",
    "\"\"\""
   ]
  },
  {
   "cell_type": "code",
   "execution_count": 8,
   "metadata": {},
   "outputs": [
    {
     "name": "stdout",
     "output_type": "stream",
     "text": [
      "2\n",
      "4\n",
      "6\n",
      "16\n"
     ]
    }
   ],
   "source": [
    "def even_numbers(get_list):\n",
    "    for number in get_list:\n",
    "        if number%2 == 0:\n",
    "            print(number)\n",
    "        else:\n",
    "            pass\n",
    "even_numbers([2,4,6,7,9,11,16])        "
   ]
  },
  {
   "cell_type": "code",
   "execution_count": 7,
   "metadata": {},
   "outputs": [],
   "source": [
    "# Task 4"
   ]
  },
  {
   "cell_type": "code",
   "execution_count": 9,
   "metadata": {},
   "outputs": [
    {
     "data": {
      "text/plain": [
       "'\\nWrite a python function that checks whether a passed string is palindrome \\nor not Note : A palindrome us a word, phrase, or sequence that reads the \\nsame backward as forword, e.g., madam\\n\\n'"
      ]
     },
     "execution_count": 9,
     "metadata": {},
     "output_type": "execute_result"
    }
   ],
   "source": [
    "\"\"\"\n",
    "Write a python function that checks whether a passed string is palindrome \n",
    "or not Note : A palindrome is a word, phrase, or sequence that reads the \n",
    "same backward as forword, e.g., madam\n",
    "\n",
    "\"\"\""
   ]
  },
  {
   "cell_type": "code",
   "execution_count": 9,
   "metadata": {},
   "outputs": [
    {
     "name": "stdout",
     "output_type": "stream",
     "text": [
      "Enter String Word: madam\n",
      "Palindrome Word:  madam\n"
     ]
    }
   ],
   "source": [
    "def palindrome(get_string):\n",
    "    \n",
    "    reverse = get_string[::-1]\n",
    "    if reverse == get_string:\n",
    "        print(\"Palindrome Word: \", reverse)\n",
    "    else:\n",
    "        print(\"Not A Palindrome Word: \", reverse )\n",
    "\n",
    "take_word = input(\"Enter String Word: \")\n",
    "palindrome(take_word)\n"
   ]
  },
  {
   "cell_type": "code",
   "execution_count": 10,
   "metadata": {},
   "outputs": [],
   "source": [
    "# Task 5 "
   ]
  },
  {
   "cell_type": "code",
   "execution_count": 11,
   "metadata": {},
   "outputs": [
    {
     "data": {
      "text/plain": [
       "'\\nWrite a python function that takes a number as a parameter and check\\nthe number is prime or not\\n'"
      ]
     },
     "execution_count": 11,
     "metadata": {},
     "output_type": "execute_result"
    }
   ],
   "source": [
    "\"\"\"\n",
    "Write a python function that takes a number as a parameter and check\n",
    "the number is prime or not\n",
    "\"\"\""
   ]
  },
  {
   "cell_type": "code",
   "execution_count": 10,
   "metadata": {},
   "outputs": [
    {
     "name": "stdout",
     "output_type": "stream",
     "text": [
      "Enter Number: 17\n",
      "17 is a prime number\n"
     ]
    }
   ],
   "source": [
    "number = int(input(\"Enter Number: \"))\n",
    "if number > 1:\n",
    "    for i in range(2, number):\n",
    "        if (number% 2) == 0:\n",
    "            print(number, \"is not a prime number\")\n",
    "            print(i, \"times\", number//i, \"is\", number)\n",
    "            break\n",
    "    else:\n",
    "        print(number, \"is a prime number\")"
   ]
  },
  {
   "cell_type": "code",
   "execution_count": 12,
   "metadata": {},
   "outputs": [],
   "source": [
    "# Task 6"
   ]
  },
  {
   "cell_type": "code",
   "execution_count": 13,
   "metadata": {},
   "outputs": [
    {
     "data": {
      "text/plain": [
       "'\\nSuppose a customers is shopping in a market and you need to print all\\nthe items which user bought from market.\\n\\nwrite a function ehich accepts the multiple arguments o user shopping\\nlist and print all the items which user bought from market.\\n\\nHint : Arbitrary arguments concept can make this task ease . )\\n\\n'"
      ]
     },
     "execution_count": 13,
     "metadata": {},
     "output_type": "execute_result"
    }
   ],
   "source": [
    "\"\"\"\n",
    "Suppose a customers is shopping in a market and you need to print all\n",
    "the items which user bought from market.\n",
    "\n",
    "write a function which accepts the multiple arguments o user shopping\n",
    "list and print all the items which user bought from market.\n",
    "\n",
    "Hint : Arbitrary arguments concept can make this task ease . )\n",
    "\n",
    "\"\"\""
   ]
  },
  {
   "cell_type": "code",
   "execution_count": 8,
   "metadata": {},
   "outputs": [
    {
     "name": "stdout",
     "output_type": "stream",
     "text": [
      "('Apple', 'Banana', 'Orange', 'Mango', 'Sweets')\n"
     ]
    }
   ],
   "source": [
    "def shopping(*items):\n",
    "    print(items)\n",
    "        \n",
    "shopping(\"Apple\",\"Banana\",\"Orange\",\"Mango\",\"Sweets\")    "
   ]
  }
 ],
 "metadata": {
  "kernelspec": {
   "display_name": "Python 3",
   "language": "python",
   "name": "python3"
  },
  "language_info": {
   "codemirror_mode": {
    "name": "ipython",
    "version": 3
   },
   "file_extension": ".py",
   "mimetype": "text/x-python",
   "name": "python",
   "nbconvert_exporter": "python",
   "pygments_lexer": "ipython3",
   "version": "3.7.1"
  }
 },
 "nbformat": 4,
 "nbformat_minor": 2
}
